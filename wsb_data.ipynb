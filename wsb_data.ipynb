{
 "cells": [
  {
   "cell_type": "code",
   "execution_count": 37,
   "metadata": {},
   "outputs": [],
   "source": [
    "import requests\n",
    "import pandas as pd\n",
    "import numpy as np\n",
    "\n",
    "from sklearn.model_selection import GridSearchCV, train_test_split, cross_val_score\n",
    "from sklearn.ensemble import RandomForestClassifier, ExtraTreesClassifier\n",
    "from sklearn.feature_extraction.text import CountVectorizer\n",
    "from sklearn.tree import DecisionTreeClassifier\n",
    "from nltk.stem import WordNetLemmatizer\n",
    "import nltk\n",
    "from nltk.tokenize import sent_tokenize, word_tokenize\n",
    "import re\n",
    "from bs4 import BeautifulSoup\n",
    "from sklearn.pipeline import make_pipeline\n",
    "from sklearn.preprocessing import StandardScaler\n",
    "from sklearn.linear_model import LogisticRegression\n",
    "import time"
   ]
  },
  {
   "cell_type": "code",
   "execution_count": 38,
   "metadata": {},
   "outputs": [],
   "source": [
    "url = 'https://api.pushshift.io/reddit/search/submission'"
   ]
  },
  {
   "cell_type": "code",
   "execution_count": 39,
   "metadata": {},
   "outputs": [],
   "source": [
    "params = {\n",
    "    'subreddit':'wallstreetbets',\n",
    "    'size' : 500,\n",
    "    'before':  1616724935,    \n",
    "}"
   ]
  },
  {
   "cell_type": "code",
   "execution_count": 40,
   "metadata": {},
   "outputs": [],
   "source": [
    "res = requests.get(url, params)"
   ]
  },
  {
   "cell_type": "code",
   "execution_count": 41,
   "metadata": {},
   "outputs": [
    {
     "data": {
      "text/plain": [
       "200"
      ]
     },
     "execution_count": 41,
     "metadata": {},
     "output_type": "execute_result"
    }
   ],
   "source": [
    "res.status_code"
   ]
  },
  {
   "cell_type": "code",
   "execution_count": 42,
   "metadata": {},
   "outputs": [],
   "source": [
    "data = res.json()"
   ]
  },
  {
   "cell_type": "code",
   "execution_count": 43,
   "metadata": {},
   "outputs": [],
   "source": [
    "posts = data['data']"
   ]
  },
  {
   "cell_type": "code",
   "execution_count": 44,
   "metadata": {},
   "outputs": [
    {
     "data": {
      "text/plain": [
       "100"
      ]
     },
     "execution_count": 44,
     "metadata": {},
     "output_type": "execute_result"
    }
   ],
   "source": [
    "len(posts)"
   ]
  },
  {
   "cell_type": "code",
   "execution_count": 45,
   "metadata": {},
   "outputs": [],
   "source": [
    "df = pd.DataFrame(posts)"
   ]
  },
  {
   "cell_type": "code",
   "execution_count": 46,
   "metadata": {},
   "outputs": [
    {
     "data": {
      "text/plain": [
       "Index(['all_awardings', 'allow_live_comments', 'author',\n",
       "       'author_flair_css_class', 'author_flair_richtext', 'author_flair_text',\n",
       "       'author_flair_type', 'author_fullname', 'author_patreon_flair',\n",
       "       'author_premium', 'awarders', 'can_mod_post', 'contest_mode',\n",
       "       'created_utc', 'domain', 'full_link', 'gildings', 'id',\n",
       "       'is_crosspostable', 'is_meta', 'is_original_content',\n",
       "       'is_reddit_media_domain', 'is_robot_indexable', 'is_self', 'is_video',\n",
       "       'link_flair_background_color', 'link_flair_css_class',\n",
       "       'link_flair_richtext', 'link_flair_template_id', 'link_flair_text',\n",
       "       'link_flair_text_color', 'link_flair_type', 'locked', 'media_only',\n",
       "       'no_follow', 'num_comments', 'num_crossposts', 'over_18',\n",
       "       'parent_whitelist_status', 'permalink', 'pinned', 'post_hint',\n",
       "       'preview', 'pwls', 'retrieved_on', 'score', 'selftext', 'send_replies',\n",
       "       'spoiler', 'stickied', 'subreddit', 'subreddit_id',\n",
       "       'subreddit_subscribers', 'subreddit_type', 'suggested_sort',\n",
       "       'thumbnail', 'thumbnail_height', 'thumbnail_width', 'title',\n",
       "       'total_awards_received', 'treatment_tags', 'upvote_ratio', 'url',\n",
       "       'url_overridden_by_dest', 'whitelist_status', 'wls', 'media',\n",
       "       'media_embed', 'secure_media', 'secure_media_embed',\n",
       "       'author_flair_background_color', 'author_flair_text_color',\n",
       "       'removed_by_category', 'media_metadata', 'gallery_data', 'is_gallery'],\n",
       "      dtype='object')"
      ]
     },
     "execution_count": 46,
     "metadata": {},
     "output_type": "execute_result"
    }
   ],
   "source": [
    "df.columns"
   ]
  },
  {
   "cell_type": "code",
   "execution_count": 47,
   "metadata": {},
   "outputs": [
    {
     "data": {
      "text/html": [
       "<div>\n",
       "<style scoped>\n",
       "    .dataframe tbody tr th:only-of-type {\n",
       "        vertical-align: middle;\n",
       "    }\n",
       "\n",
       "    .dataframe tbody tr th {\n",
       "        vertical-align: top;\n",
       "    }\n",
       "\n",
       "    .dataframe thead th {\n",
       "        text-align: right;\n",
       "    }\n",
       "</style>\n",
       "<table border=\"1\" class=\"dataframe\">\n",
       "  <thead>\n",
       "    <tr style=\"text-align: right;\">\n",
       "      <th></th>\n",
       "      <th>all_awardings</th>\n",
       "      <th>allow_live_comments</th>\n",
       "      <th>author</th>\n",
       "      <th>author_flair_css_class</th>\n",
       "      <th>author_flair_richtext</th>\n",
       "      <th>author_flair_text</th>\n",
       "      <th>author_flair_type</th>\n",
       "      <th>author_fullname</th>\n",
       "      <th>author_patreon_flair</th>\n",
       "      <th>author_premium</th>\n",
       "      <th>...</th>\n",
       "      <th>media</th>\n",
       "      <th>media_embed</th>\n",
       "      <th>secure_media</th>\n",
       "      <th>secure_media_embed</th>\n",
       "      <th>author_flair_background_color</th>\n",
       "      <th>author_flair_text_color</th>\n",
       "      <th>removed_by_category</th>\n",
       "      <th>media_metadata</th>\n",
       "      <th>gallery_data</th>\n",
       "      <th>is_gallery</th>\n",
       "    </tr>\n",
       "  </thead>\n",
       "  <tbody>\n",
       "    <tr>\n",
       "      <th>0</th>\n",
       "      <td>[]</td>\n",
       "      <td>False</td>\n",
       "      <td>parkjihyun619</td>\n",
       "      <td>None</td>\n",
       "      <td>[]</td>\n",
       "      <td>None</td>\n",
       "      <td>text</td>\n",
       "      <td>t2_9yt3qwhs</td>\n",
       "      <td>False</td>\n",
       "      <td>False</td>\n",
       "      <td>...</td>\n",
       "      <td>NaN</td>\n",
       "      <td>NaN</td>\n",
       "      <td>NaN</td>\n",
       "      <td>NaN</td>\n",
       "      <td>NaN</td>\n",
       "      <td>NaN</td>\n",
       "      <td>NaN</td>\n",
       "      <td>NaN</td>\n",
       "      <td>NaN</td>\n",
       "      <td>NaN</td>\n",
       "    </tr>\n",
       "  </tbody>\n",
       "</table>\n",
       "<p>1 rows × 76 columns</p>\n",
       "</div>"
      ],
      "text/plain": [
       "  all_awardings  allow_live_comments         author author_flair_css_class  \\\n",
       "0            []                False  parkjihyun619                   None   \n",
       "\n",
       "  author_flair_richtext author_flair_text author_flair_type author_fullname  \\\n",
       "0                    []              None              text     t2_9yt3qwhs   \n",
       "\n",
       "   author_patreon_flair  author_premium  ... media  media_embed  secure_media  \\\n",
       "0                 False           False  ...   NaN          NaN           NaN   \n",
       "\n",
       "   secure_media_embed author_flair_background_color author_flair_text_color  \\\n",
       "0                 NaN                           NaN                     NaN   \n",
       "\n",
       "  removed_by_category media_metadata  gallery_data  is_gallery  \n",
       "0                 NaN            NaN           NaN         NaN  \n",
       "\n",
       "[1 rows x 76 columns]"
      ]
     },
     "execution_count": 47,
     "metadata": {},
     "output_type": "execute_result"
    }
   ],
   "source": [
    "df.head(1)"
   ]
  },
  {
   "cell_type": "code",
   "execution_count": 48,
   "metadata": {},
   "outputs": [
    {
     "data": {
      "text/html": [
       "<div>\n",
       "<style scoped>\n",
       "    .dataframe tbody tr th:only-of-type {\n",
       "        vertical-align: middle;\n",
       "    }\n",
       "\n",
       "    .dataframe tbody tr th {\n",
       "        vertical-align: top;\n",
       "    }\n",
       "\n",
       "    .dataframe thead th {\n",
       "        text-align: right;\n",
       "    }\n",
       "</style>\n",
       "<table border=\"1\" class=\"dataframe\">\n",
       "  <thead>\n",
       "    <tr style=\"text-align: right;\">\n",
       "      <th></th>\n",
       "      <th>created_utc</th>\n",
       "    </tr>\n",
       "  </thead>\n",
       "  <tbody>\n",
       "    <tr>\n",
       "      <th>99</th>\n",
       "      <td>1615999835</td>\n",
       "    </tr>\n",
       "    <tr>\n",
       "      <th>98</th>\n",
       "      <td>1615999842</td>\n",
       "    </tr>\n",
       "    <tr>\n",
       "      <th>97</th>\n",
       "      <td>1615999853</td>\n",
       "    </tr>\n",
       "    <tr>\n",
       "      <th>96</th>\n",
       "      <td>1615999856</td>\n",
       "    </tr>\n",
       "    <tr>\n",
       "      <th>95</th>\n",
       "      <td>1615999858</td>\n",
       "    </tr>\n",
       "  </tbody>\n",
       "</table>\n",
       "</div>"
      ],
      "text/plain": [
       "    created_utc\n",
       "99   1615999835\n",
       "98   1615999842\n",
       "97   1615999853\n",
       "96   1615999856\n",
       "95   1615999858"
      ]
     },
     "execution_count": 48,
     "metadata": {},
     "output_type": "execute_result"
    }
   ],
   "source": [
    "df.sort_values(by = 'retrieved_on',ascending=True).head()[['created_utc']]\n"
   ]
  },
  {
   "cell_type": "code",
   "execution_count": 49,
   "metadata": {},
   "outputs": [
    {
     "data": {
      "text/html": [
       "<div>\n",
       "<style scoped>\n",
       "    .dataframe tbody tr th:only-of-type {\n",
       "        vertical-align: middle;\n",
       "    }\n",
       "\n",
       "    .dataframe tbody tr th {\n",
       "        vertical-align: top;\n",
       "    }\n",
       "\n",
       "    .dataframe thead th {\n",
       "        text-align: right;\n",
       "    }\n",
       "</style>\n",
       "<table border=\"1\" class=\"dataframe\">\n",
       "  <thead>\n",
       "    <tr style=\"text-align: right;\">\n",
       "      <th></th>\n",
       "      <th>subreddit</th>\n",
       "      <th>selftext</th>\n",
       "      <th>title</th>\n",
       "      <th>created_utc</th>\n",
       "    </tr>\n",
       "  </thead>\n",
       "  <tbody>\n",
       "    <tr>\n",
       "      <th>0</th>\n",
       "      <td>wallstreetbets</td>\n",
       "      <td></td>\n",
       "      <td>added 10 shares of GME, let’s go!!! 🚀🚀🚀</td>\n",
       "      <td>1616001381</td>\n",
       "    </tr>\n",
       "    <tr>\n",
       "      <th>1</th>\n",
       "      <td>wallstreetbets</td>\n",
       "      <td></td>\n",
       "      <td>AMC tweet - keep your friends close, but your ...</td>\n",
       "      <td>1616001376</td>\n",
       "    </tr>\n",
       "    <tr>\n",
       "      <th>2</th>\n",
       "      <td>wallstreetbets</td>\n",
       "      <td></td>\n",
       "      <td>Dfv tweet - if we wanna make money we need to ...</td>\n",
       "      <td>1616001366</td>\n",
       "    </tr>\n",
       "    <tr>\n",
       "      <th>3</th>\n",
       "      <td>wallstreetbets</td>\n",
       "      <td></td>\n",
       "      <td>Rocket Boosters Initiated 🔥🔥🚀🚀</td>\n",
       "      <td>1616001350</td>\n",
       "    </tr>\n",
       "    <tr>\n",
       "      <th>4</th>\n",
       "      <td>wallstreetbets</td>\n",
       "      <td></td>\n",
       "      <td>Did I stutter?</td>\n",
       "      <td>1616001346</td>\n",
       "    </tr>\n",
       "  </tbody>\n",
       "</table>\n",
       "</div>"
      ],
      "text/plain": [
       "        subreddit selftext                                              title  \\\n",
       "0  wallstreetbets                     added 10 shares of GME, let’s go!!! 🚀🚀🚀   \n",
       "1  wallstreetbets           AMC tweet - keep your friends close, but your ...   \n",
       "2  wallstreetbets           Dfv tweet - if we wanna make money we need to ...   \n",
       "3  wallstreetbets                              Rocket Boosters Initiated 🔥🔥🚀🚀   \n",
       "4  wallstreetbets                                              Did I stutter?   \n",
       "\n",
       "   created_utc  \n",
       "0   1616001381  \n",
       "1   1616001376  \n",
       "2   1616001366  \n",
       "3   1616001350  \n",
       "4   1616001346  "
      ]
     },
     "execution_count": 49,
     "metadata": {},
     "output_type": "execute_result"
    }
   ],
   "source": [
    "df[['subreddit','selftext','title','created_utc']].head()"
   ]
  },
  {
   "cell_type": "code",
   "execution_count": 50,
   "metadata": {},
   "outputs": [],
   "source": [
    "# from Breakfast Hour with help from Erik\n",
    "def get_posts(subreddit, n_iter, epoch_right_now): # subreddit name and number of times function should run\n",
    "    pass\n",
    "    # store base url variable\n",
    "    base_url = 'https://api.pushshift.io/reddit/search/submission/?subreddit='\n",
    "    # instantiate empty list    \n",
    "    df_list = []\n",
    "    # save current epoch, used to iterate in reverse through time\n",
    "    current_time = epoch_right_now\n",
    "    # set up for loop\n",
    "    for post in range(n_iter):\n",
    "        # instantiate get request\n",
    "        res = requests.get(\n",
    "            # requests.get takes base_url and params\n",
    "            base_url, \n",
    "            # parameters for get request\n",
    "            params = {\n",
    "                # specify subreddit\n",
    "                'subreddit': subreddit,\n",
    "                # specify number of posts to pull\n",
    "                'size': 500,\n",
    "                # restrict based on default language of subreddit\n",
    "                'lang': True,\n",
    "                # pull everything from current time backward\n",
    "                'before': current_time}\n",
    "        )\n",
    "        # take data from most recent request, store as df\n",
    "        df = pd.DataFrame(res.json()['data'])\n",
    "        # pull specific columns from dataframe for analysis\n",
    "        df = df.loc[:, ['title',\n",
    "                        'author',\n",
    "                        'selftext',\n",
    "                        'subreddit',                 \n",
    "                        'score',\n",
    "                        'created_utc',\n",
    "                        'id']]\n",
    "        # append to empty dataframe list\n",
    "        df_list.append(df)\n",
    "        # add wait time to not overload the API\n",
    "        sleep_time = np.random.randint(1, 3) # to make it look more random\n",
    "        time.sleep(sleep_time)\n",
    "        # set current time counter back to last epoch in recently grabbed df\n",
    "        current_time = df['created_utc'].min()     # current time set to before the last post in current request\n",
    "    # return one dataframe for all requests\n",
    "    return pd.concat(df_list, axis = 0)"
   ]
  },
  {
   "cell_type": "code",
   "execution_count": 51,
   "metadata": {},
   "outputs": [],
   "source": [
    "wsb1 = get_posts('wallstreetbets', 20, 1616724341)"
   ]
  },
  {
   "cell_type": "code",
   "execution_count": 52,
   "metadata": {},
   "outputs": [
    {
     "data": {
      "text/html": [
       "<div>\n",
       "<style scoped>\n",
       "    .dataframe tbody tr th:only-of-type {\n",
       "        vertical-align: middle;\n",
       "    }\n",
       "\n",
       "    .dataframe tbody tr th {\n",
       "        vertical-align: top;\n",
       "    }\n",
       "\n",
       "    .dataframe thead th {\n",
       "        text-align: right;\n",
       "    }\n",
       "</style>\n",
       "<table border=\"1\" class=\"dataframe\">\n",
       "  <thead>\n",
       "    <tr style=\"text-align: right;\">\n",
       "      <th></th>\n",
       "      <th>title</th>\n",
       "      <th>author</th>\n",
       "      <th>selftext</th>\n",
       "      <th>subreddit</th>\n",
       "      <th>score</th>\n",
       "      <th>created_utc</th>\n",
       "      <th>id</th>\n",
       "    </tr>\n",
       "  </thead>\n",
       "  <tbody>\n",
       "    <tr>\n",
       "      <th>0</th>\n",
       "      <td>added 10 shares of GME, let’s go!!! 🚀🚀🚀</td>\n",
       "      <td>parkjihyun619</td>\n",
       "      <td></td>\n",
       "      <td>wallstreetbets</td>\n",
       "      <td>1</td>\n",
       "      <td>1616001381</td>\n",
       "      <td>m75e9z</td>\n",
       "    </tr>\n",
       "    <tr>\n",
       "      <th>1</th>\n",
       "      <td>AMC tweet - keep your friends close, but your ...</td>\n",
       "      <td>TurdsforNipples</td>\n",
       "      <td></td>\n",
       "      <td>wallstreetbets</td>\n",
       "      <td>1</td>\n",
       "      <td>1616001376</td>\n",
       "      <td>m75e6z</td>\n",
       "    </tr>\n",
       "    <tr>\n",
       "      <th>2</th>\n",
       "      <td>Dfv tweet - if we wanna make money we need to ...</td>\n",
       "      <td>Xientziunjo</td>\n",
       "      <td></td>\n",
       "      <td>wallstreetbets</td>\n",
       "      <td>1</td>\n",
       "      <td>1616001366</td>\n",
       "      <td>m75e1r</td>\n",
       "    </tr>\n",
       "    <tr>\n",
       "      <th>3</th>\n",
       "      <td>Rocket Boosters Initiated 🔥🔥🚀🚀</td>\n",
       "      <td>Aaronlvlia</td>\n",
       "      <td></td>\n",
       "      <td>wallstreetbets</td>\n",
       "      <td>0</td>\n",
       "      <td>1616001350</td>\n",
       "      <td>m75dtv</td>\n",
       "    </tr>\n",
       "    <tr>\n",
       "      <th>4</th>\n",
       "      <td>Did I stutter?</td>\n",
       "      <td>chiefoogabooga</td>\n",
       "      <td></td>\n",
       "      <td>wallstreetbets</td>\n",
       "      <td>1</td>\n",
       "      <td>1616001346</td>\n",
       "      <td>m75drr</td>\n",
       "    </tr>\n",
       "  </tbody>\n",
       "</table>\n",
       "</div>"
      ],
      "text/plain": [
       "                                               title           author  \\\n",
       "0            added 10 shares of GME, let’s go!!! 🚀🚀🚀    parkjihyun619   \n",
       "1  AMC tweet - keep your friends close, but your ...  TurdsforNipples   \n",
       "2  Dfv tweet - if we wanna make money we need to ...      Xientziunjo   \n",
       "3                     Rocket Boosters Initiated 🔥🔥🚀🚀       Aaronlvlia   \n",
       "4                                     Did I stutter?   chiefoogabooga   \n",
       "\n",
       "  selftext       subreddit  score  created_utc      id  \n",
       "0           wallstreetbets      1   1616001381  m75e9z  \n",
       "1           wallstreetbets      1   1616001376  m75e6z  \n",
       "2           wallstreetbets      1   1616001366  m75e1r  \n",
       "3           wallstreetbets      0   1616001350  m75dtv  \n",
       "4           wallstreetbets      1   1616001346  m75drr  "
      ]
     },
     "execution_count": 52,
     "metadata": {},
     "output_type": "execute_result"
    }
   ],
   "source": [
    "wsb1.head()"
   ]
  },
  {
   "cell_type": "code",
   "execution_count": 53,
   "metadata": {},
   "outputs": [
    {
     "data": {
      "text/plain": [
       "(2000, 7)"
      ]
     },
     "execution_count": 53,
     "metadata": {},
     "output_type": "execute_result"
    }
   ],
   "source": [
    "wsb1.shape"
   ]
  },
  {
   "cell_type": "code",
   "execution_count": 54,
   "metadata": {},
   "outputs": [
    {
     "name": "stdout",
     "output_type": "stream",
     "text": [
      "<class 'pandas.core.frame.DataFrame'>\n",
      "Int64Index: 2000 entries, 0 to 99\n",
      "Data columns (total 7 columns):\n",
      " #   Column       Non-Null Count  Dtype \n",
      "---  ------       --------------  ----- \n",
      " 0   title        2000 non-null   object\n",
      " 1   author       2000 non-null   object\n",
      " 2   selftext     2000 non-null   object\n",
      " 3   subreddit    2000 non-null   object\n",
      " 4   score        2000 non-null   int64 \n",
      " 5   created_utc  2000 non-null   int64 \n",
      " 6   id           2000 non-null   object\n",
      "dtypes: int64(2), object(5)\n",
      "memory usage: 125.0+ KB\n"
     ]
    }
   ],
   "source": [
    "wsb1 = wsb1.dropna() \n",
    "wsb1.info()"
   ]
  },
  {
   "cell_type": "code",
   "execution_count": 55,
   "metadata": {},
   "outputs": [],
   "source": [
    "# cleaning up some of the noise\n",
    "wsb1['selftext'] = wsb1['selftext'].apply(lambda x: re.sub('http[s]?:\\/\\/[^\\s]*', ' ', x))\n",
    "wsb1['selftext'] = wsb1['selftext'].apply(lambda x: re.sub('\\n', ' ', x))"
   ]
  },
  {
   "cell_type": "code",
   "execution_count": 56,
   "metadata": {},
   "outputs": [
    {
     "name": "stdout",
     "output_type": "stream",
     "text": [
      "<class 'pandas.core.frame.DataFrame'>\n",
      "Int64Index: 2000 entries, 0 to 99\n",
      "Data columns (total 7 columns):\n",
      " #   Column       Non-Null Count  Dtype \n",
      "---  ------       --------------  ----- \n",
      " 0   title        2000 non-null   object\n",
      " 1   author       2000 non-null   object\n",
      " 2   selftext     2000 non-null   object\n",
      " 3   subreddit    2000 non-null   object\n",
      " 4   score        2000 non-null   int64 \n",
      " 5   created_utc  2000 non-null   int64 \n",
      " 6   id           2000 non-null   object\n",
      "dtypes: int64(2), object(5)\n",
      "memory usage: 125.0+ KB\n"
     ]
    }
   ],
   "source": [
    "wsb1.info()"
   ]
  },
  {
   "cell_type": "code",
   "execution_count": 57,
   "metadata": {},
   "outputs": [
    {
     "data": {
      "text/html": [
       "<div>\n",
       "<style scoped>\n",
       "    .dataframe tbody tr th:only-of-type {\n",
       "        vertical-align: middle;\n",
       "    }\n",
       "\n",
       "    .dataframe tbody tr th {\n",
       "        vertical-align: top;\n",
       "    }\n",
       "\n",
       "    .dataframe thead th {\n",
       "        text-align: right;\n",
       "    }\n",
       "</style>\n",
       "<table border=\"1\" class=\"dataframe\">\n",
       "  <thead>\n",
       "    <tr style=\"text-align: right;\">\n",
       "      <th></th>\n",
       "      <th>title</th>\n",
       "      <th>author</th>\n",
       "      <th>selftext</th>\n",
       "      <th>subreddit</th>\n",
       "      <th>score</th>\n",
       "      <th>created_utc</th>\n",
       "      <th>id</th>\n",
       "    </tr>\n",
       "  </thead>\n",
       "  <tbody>\n",
       "    <tr>\n",
       "      <th>0</th>\n",
       "      <td>added 10 shares of GME, let’s go!!! 🚀🚀🚀</td>\n",
       "      <td>parkjihyun619</td>\n",
       "      <td></td>\n",
       "      <td>wallstreetbets</td>\n",
       "      <td>1</td>\n",
       "      <td>1616001381</td>\n",
       "      <td>m75e9z</td>\n",
       "    </tr>\n",
       "    <tr>\n",
       "      <th>50</th>\n",
       "      <td>I'm waiting for the gain when the market is in...</td>\n",
       "      <td>TrumXReddit</td>\n",
       "      <td></td>\n",
       "      <td>wallstreetbets</td>\n",
       "      <td>1</td>\n",
       "      <td>1615983616</td>\n",
       "      <td>m6z5ht</td>\n",
       "    </tr>\n",
       "    <tr>\n",
       "      <th>48</th>\n",
       "      <td>I got lost at \"Good Robinhood Trader\"</td>\n",
       "      <td>thenribrat</td>\n",
       "      <td></td>\n",
       "      <td>wallstreetbets</td>\n",
       "      <td>1</td>\n",
       "      <td>1615983633</td>\n",
       "      <td>m6z5n6</td>\n",
       "    </tr>\n",
       "    <tr>\n",
       "      <th>45</th>\n",
       "      <td>This old fart is part of the reason why we sho...</td>\n",
       "      <td>Omegaque713</td>\n",
       "      <td></td>\n",
       "      <td>wallstreetbets</td>\n",
       "      <td>1</td>\n",
       "      <td>1615983701</td>\n",
       "      <td>m6z6c9</td>\n",
       "    </tr>\n",
       "    <tr>\n",
       "      <th>44</th>\n",
       "      <td>5 Irish Stocks To Buy For St. Patrick's Day</td>\n",
       "      <td>PhilHallUSA</td>\n",
       "      <td></td>\n",
       "      <td>wallstreetbets</td>\n",
       "      <td>1</td>\n",
       "      <td>1615983716</td>\n",
       "      <td>m6z6gz</td>\n",
       "    </tr>\n",
       "    <tr>\n",
       "      <th>...</th>\n",
       "      <td>...</td>\n",
       "      <td>...</td>\n",
       "      <td>...</td>\n",
       "      <td>...</td>\n",
       "      <td>...</td>\n",
       "      <td>...</td>\n",
       "      <td>...</td>\n",
       "    </tr>\n",
       "    <tr>\n",
       "      <th>28</th>\n",
       "      <td>WSB Rules - Please Read Before Posting (Smooth...</td>\n",
       "      <td>OPINION_IS_UNPOPULAR</td>\n",
       "      <td>post gooder please  remove tinfoil hat  make t...</td>\n",
       "      <td>wallstreetbets</td>\n",
       "      <td>1</td>\n",
       "      <td>1615999520</td>\n",
       "      <td>m74o97</td>\n",
       "    </tr>\n",
       "    <tr>\n",
       "      <th>56</th>\n",
       "      <td>next target ISR</td>\n",
       "      <td>Awkward_Dig4434</td>\n",
       "      <td>so our next target is - ISR ... true ?</td>\n",
       "      <td>wallstreetbets</td>\n",
       "      <td>1</td>\n",
       "      <td>1615976615</td>\n",
       "      <td>m6xbce</td>\n",
       "    </tr>\n",
       "    <tr>\n",
       "      <th>55</th>\n",
       "      <td>next target - ISR</td>\n",
       "      <td>Awkward_Dig4434</td>\n",
       "      <td>so our next target is ISR ? its true ?</td>\n",
       "      <td>wallstreetbets</td>\n",
       "      <td>1</td>\n",
       "      <td>1615976672</td>\n",
       "      <td>m6xbvw</td>\n",
       "    </tr>\n",
       "    <tr>\n",
       "      <th>81</th>\n",
       "      <td>decrypting dfv's latest tweet</td>\n",
       "      <td>nin0miku</td>\n",
       "      <td>🔍Latest DFV tweet decoded 🔎  So, [DFV tweeded]...</td>\n",
       "      <td>wallstreetbets</td>\n",
       "      <td>1</td>\n",
       "      <td>1615969630</td>\n",
       "      <td>m6vo63</td>\n",
       "    </tr>\n",
       "    <tr>\n",
       "      <th>65</th>\n",
       "      <td>$SLGG to the moon boys</td>\n",
       "      <td>RLCallahan</td>\n",
       "      <td>🚀🚀🚀🚀</td>\n",
       "      <td>wallstreetbets</td>\n",
       "      <td>1</td>\n",
       "      <td>1615991611</td>\n",
       "      <td>m71qnv</td>\n",
       "    </tr>\n",
       "  </tbody>\n",
       "</table>\n",
       "<p>2000 rows × 7 columns</p>\n",
       "</div>"
      ],
      "text/plain": [
       "                                                title                author  \\\n",
       "0             added 10 shares of GME, let’s go!!! 🚀🚀🚀         parkjihyun619   \n",
       "50  I'm waiting for the gain when the market is in...           TrumXReddit   \n",
       "48              I got lost at \"Good Robinhood Trader\"            thenribrat   \n",
       "45  This old fart is part of the reason why we sho...           Omegaque713   \n",
       "44        5 Irish Stocks To Buy For St. Patrick's Day           PhilHallUSA   \n",
       "..                                                ...                   ...   \n",
       "28  WSB Rules - Please Read Before Posting (Smooth...  OPINION_IS_UNPOPULAR   \n",
       "56                                    next target ISR       Awkward_Dig4434   \n",
       "55                                  next target - ISR       Awkward_Dig4434   \n",
       "81                      decrypting dfv's latest tweet              nin0miku   \n",
       "65                             $SLGG to the moon boys            RLCallahan   \n",
       "\n",
       "                                             selftext       subreddit  score  \\\n",
       "0                                                      wallstreetbets      1   \n",
       "50                                                     wallstreetbets      1   \n",
       "48                                                     wallstreetbets      1   \n",
       "45                                                     wallstreetbets      1   \n",
       "44                                                     wallstreetbets      1   \n",
       "..                                                ...             ...    ...   \n",
       "28  post gooder please  remove tinfoil hat  make t...  wallstreetbets      1   \n",
       "56             so our next target is - ISR ... true ?  wallstreetbets      1   \n",
       "55             so our next target is ISR ? its true ?  wallstreetbets      1   \n",
       "81  🔍Latest DFV tweet decoded 🔎  So, [DFV tweeded]...  wallstreetbets      1   \n",
       "65                                               🚀🚀🚀🚀  wallstreetbets      1   \n",
       "\n",
       "    created_utc      id  \n",
       "0    1616001381  m75e9z  \n",
       "50   1615983616  m6z5ht  \n",
       "48   1615983633  m6z5n6  \n",
       "45   1615983701  m6z6c9  \n",
       "44   1615983716  m6z6gz  \n",
       "..          ...     ...  \n",
       "28   1615999520  m74o97  \n",
       "56   1615976615  m6xbce  \n",
       "55   1615976672  m6xbvw  \n",
       "81   1615969630  m6vo63  \n",
       "65   1615991611  m71qnv  \n",
       "\n",
       "[2000 rows x 7 columns]"
      ]
     },
     "execution_count": 57,
     "metadata": {},
     "output_type": "execute_result"
    }
   ],
   "source": [
    "wsb1.sort_values(by = ['selftext'])"
   ]
  },
  {
   "cell_type": "code",
   "execution_count": 58,
   "metadata": {},
   "outputs": [
    {
     "data": {
      "text/html": [
       "<div>\n",
       "<style scoped>\n",
       "    .dataframe tbody tr th:only-of-type {\n",
       "        vertical-align: middle;\n",
       "    }\n",
       "\n",
       "    .dataframe tbody tr th {\n",
       "        vertical-align: top;\n",
       "    }\n",
       "\n",
       "    .dataframe thead th {\n",
       "        text-align: right;\n",
       "    }\n",
       "</style>\n",
       "<table border=\"1\" class=\"dataframe\">\n",
       "  <thead>\n",
       "    <tr style=\"text-align: right;\">\n",
       "      <th></th>\n",
       "      <th>title</th>\n",
       "      <th>author</th>\n",
       "      <th>selftext</th>\n",
       "      <th>subreddit</th>\n",
       "      <th>score</th>\n",
       "      <th>created_utc</th>\n",
       "      <th>id</th>\n",
       "    </tr>\n",
       "  </thead>\n",
       "  <tbody>\n",
       "    <tr>\n",
       "      <th>0</th>\n",
       "      <td>added 10 shares of GME, let’s go!!! 🚀🚀🚀</td>\n",
       "      <td>parkjihyun619</td>\n",
       "      <td></td>\n",
       "      <td>wallstreetbets</td>\n",
       "      <td>1</td>\n",
       "      <td>1616001381</td>\n",
       "      <td>m75e9z</td>\n",
       "    </tr>\n",
       "    <tr>\n",
       "      <th>1</th>\n",
       "      <td>AMC tweet - keep your friends close, but your ...</td>\n",
       "      <td>TurdsforNipples</td>\n",
       "      <td></td>\n",
       "      <td>wallstreetbets</td>\n",
       "      <td>1</td>\n",
       "      <td>1616001376</td>\n",
       "      <td>m75e6z</td>\n",
       "    </tr>\n",
       "    <tr>\n",
       "      <th>2</th>\n",
       "      <td>Dfv tweet - if we wanna make money we need to ...</td>\n",
       "      <td>Xientziunjo</td>\n",
       "      <td></td>\n",
       "      <td>wallstreetbets</td>\n",
       "      <td>1</td>\n",
       "      <td>1616001366</td>\n",
       "      <td>m75e1r</td>\n",
       "    </tr>\n",
       "    <tr>\n",
       "      <th>3</th>\n",
       "      <td>Rocket Boosters Initiated 🔥🔥🚀🚀</td>\n",
       "      <td>Aaronlvlia</td>\n",
       "      <td></td>\n",
       "      <td>wallstreetbets</td>\n",
       "      <td>0</td>\n",
       "      <td>1616001350</td>\n",
       "      <td>m75dtv</td>\n",
       "    </tr>\n",
       "    <tr>\n",
       "      <th>4</th>\n",
       "      <td>Did I stutter?</td>\n",
       "      <td>chiefoogabooga</td>\n",
       "      <td></td>\n",
       "      <td>wallstreetbets</td>\n",
       "      <td>1</td>\n",
       "      <td>1616001346</td>\n",
       "      <td>m75drr</td>\n",
       "    </tr>\n",
       "    <tr>\n",
       "      <th>...</th>\n",
       "      <td>...</td>\n",
       "      <td>...</td>\n",
       "      <td>...</td>\n",
       "      <td>...</td>\n",
       "      <td>...</td>\n",
       "      <td>...</td>\n",
       "      <td>...</td>\n",
       "    </tr>\n",
       "    <tr>\n",
       "      <th>92</th>\n",
       "      <td>I've been out of bubble gum for a while now. T...</td>\n",
       "      <td>SeSuSo</td>\n",
       "      <td></td>\n",
       "      <td>wallstreetbets</td>\n",
       "      <td>1</td>\n",
       "      <td>1615949598</td>\n",
       "      <td>m6qfq9</td>\n",
       "    </tr>\n",
       "    <tr>\n",
       "      <th>93</th>\n",
       "      <td>Funko NFT</td>\n",
       "      <td>rockettilt</td>\n",
       "      <td></td>\n",
       "      <td>wallstreetbets</td>\n",
       "      <td>1</td>\n",
       "      <td>1615949597</td>\n",
       "      <td>m6qfq0</td>\n",
       "    </tr>\n",
       "    <tr>\n",
       "      <th>94</th>\n",
       "      <td>Which one of you smooth-brains did this?? Spot...</td>\n",
       "      <td>sd_aero</td>\n",
       "      <td></td>\n",
       "      <td>wallstreetbets</td>\n",
       "      <td>1</td>\n",
       "      <td>1615949592</td>\n",
       "      <td>m6qfnw</td>\n",
       "    </tr>\n",
       "    <tr>\n",
       "      <th>97</th>\n",
       "      <td>Link in first comment</td>\n",
       "      <td>ElonMuks-earth2</td>\n",
       "      <td></td>\n",
       "      <td>wallstreetbets</td>\n",
       "      <td>1</td>\n",
       "      <td>1615949586</td>\n",
       "      <td>m6qfjf</td>\n",
       "    </tr>\n",
       "    <tr>\n",
       "      <th>99</th>\n",
       "      <td>Watching The Big Short before tomorrow. 🚀💎👏🏼 #...</td>\n",
       "      <td>HodlingforDiamonds_</td>\n",
       "      <td></td>\n",
       "      <td>wallstreetbets</td>\n",
       "      <td>1</td>\n",
       "      <td>1615949570</td>\n",
       "      <td>m6qfcr</td>\n",
       "    </tr>\n",
       "  </tbody>\n",
       "</table>\n",
       "<p>1166 rows × 7 columns</p>\n",
       "</div>"
      ],
      "text/plain": [
       "                                                title               author  \\\n",
       "0             added 10 shares of GME, let’s go!!! 🚀🚀🚀        parkjihyun619   \n",
       "1   AMC tweet - keep your friends close, but your ...      TurdsforNipples   \n",
       "2   Dfv tweet - if we wanna make money we need to ...          Xientziunjo   \n",
       "3                      Rocket Boosters Initiated 🔥🔥🚀🚀           Aaronlvlia   \n",
       "4                                      Did I stutter?       chiefoogabooga   \n",
       "..                                                ...                  ...   \n",
       "92  I've been out of bubble gum for a while now. T...               SeSuSo   \n",
       "93                                          Funko NFT           rockettilt   \n",
       "94  Which one of you smooth-brains did this?? Spot...              sd_aero   \n",
       "97                              Link in first comment      ElonMuks-earth2   \n",
       "99  Watching The Big Short before tomorrow. 🚀💎👏🏼 #...  HodlingforDiamonds_   \n",
       "\n",
       "   selftext       subreddit  score  created_utc      id  \n",
       "0            wallstreetbets      1   1616001381  m75e9z  \n",
       "1            wallstreetbets      1   1616001376  m75e6z  \n",
       "2            wallstreetbets      1   1616001366  m75e1r  \n",
       "3            wallstreetbets      0   1616001350  m75dtv  \n",
       "4            wallstreetbets      1   1616001346  m75drr  \n",
       "..      ...             ...    ...          ...     ...  \n",
       "92           wallstreetbets      1   1615949598  m6qfq9  \n",
       "93           wallstreetbets      1   1615949597  m6qfq0  \n",
       "94           wallstreetbets      1   1615949592  m6qfnw  \n",
       "97           wallstreetbets      1   1615949586  m6qfjf  \n",
       "99           wallstreetbets      1   1615949570  m6qfcr  \n",
       "\n",
       "[1166 rows x 7 columns]"
      ]
     },
     "execution_count": 58,
     "metadata": {},
     "output_type": "execute_result"
    }
   ],
   "source": [
    "wsb1.loc[wsb1['selftext']=='']"
   ]
  },
  {
   "cell_type": "code",
   "execution_count": 59,
   "metadata": {},
   "outputs": [
    {
     "data": {
      "text/plain": [
       "title          424\n",
       "author         424\n",
       "selftext       424\n",
       "subreddit      424\n",
       "score          424\n",
       "created_utc    424\n",
       "id             424\n",
       "dtype: int64"
      ]
     },
     "execution_count": 59,
     "metadata": {},
     "output_type": "execute_result"
    }
   ],
   "source": [
    "wsb1.loc[wsb1['selftext']=='[removed]'].count()"
   ]
  },
  {
   "cell_type": "code",
   "execution_count": 60,
   "metadata": {},
   "outputs": [],
   "source": [
    "#removing empty post rows\n",
    "wsb1['selftext'].replace(\"\", np.nan, inplace=True)\n",
    "wsb1['selftext'].replace(\"[removed]\", np.nan, inplace=True)"
   ]
  },
  {
   "cell_type": "code",
   "execution_count": 61,
   "metadata": {},
   "outputs": [
    {
     "name": "stdout",
     "output_type": "stream",
     "text": [
      "<class 'pandas.core.frame.DataFrame'>\n",
      "Int64Index: 410 entries, 15 to 95\n",
      "Data columns (total 7 columns):\n",
      " #   Column       Non-Null Count  Dtype \n",
      "---  ------       --------------  ----- \n",
      " 0   title        410 non-null    object\n",
      " 1   author       410 non-null    object\n",
      " 2   selftext     410 non-null    object\n",
      " 3   subreddit    410 non-null    object\n",
      " 4   score        410 non-null    int64 \n",
      " 5   created_utc  410 non-null    int64 \n",
      " 6   id           410 non-null    object\n",
      "dtypes: int64(2), object(5)\n",
      "memory usage: 25.6+ KB\n"
     ]
    }
   ],
   "source": [
    "wsb1 = wsb1.dropna()\n",
    "wsb1.info()"
   ]
  },
  {
   "cell_type": "code",
   "execution_count": 62,
   "metadata": {},
   "outputs": [
    {
     "data": {
      "text/plain": [
       "(410, 7)"
      ]
     },
     "execution_count": 62,
     "metadata": {},
     "output_type": "execute_result"
    }
   ],
   "source": [
    "wsb1.shape"
   ]
  },
  {
   "cell_type": "code",
   "execution_count": 63,
   "metadata": {},
   "outputs": [],
   "source": [
    "# will use as cleaned main data source\n",
    "wsb1.to_csv('wsb_scrape.csv')"
   ]
  },
  {
   "cell_type": "code",
   "execution_count": null,
   "metadata": {},
   "outputs": [],
   "source": []
  },
  {
   "cell_type": "code",
   "execution_count": null,
   "metadata": {},
   "outputs": [],
   "source": []
  },
  {
   "cell_type": "code",
   "execution_count": null,
   "metadata": {},
   "outputs": [],
   "source": []
  },
  {
   "cell_type": "code",
   "execution_count": null,
   "metadata": {},
   "outputs": [],
   "source": []
  },
  {
   "cell_type": "code",
   "execution_count": null,
   "metadata": {},
   "outputs": [],
   "source": []
  },
  {
   "cell_type": "code",
   "execution_count": null,
   "metadata": {},
   "outputs": [],
   "source": []
  },
  {
   "cell_type": "code",
   "execution_count": null,
   "metadata": {},
   "outputs": [],
   "source": []
  },
  {
   "cell_type": "code",
   "execution_count": null,
   "metadata": {},
   "outputs": [],
   "source": []
  },
  {
   "cell_type": "code",
   "execution_count": null,
   "metadata": {},
   "outputs": [],
   "source": []
  }
 ],
 "metadata": {
  "kernelspec": {
   "display_name": "Python 3",
   "language": "python",
   "name": "python3"
  },
  "language_info": {
   "codemirror_mode": {
    "name": "ipython",
    "version": 3
   },
   "file_extension": ".py",
   "mimetype": "text/x-python",
   "name": "python",
   "nbconvert_exporter": "python",
   "pygments_lexer": "ipython3",
   "version": "3.7.7"
  }
 },
 "nbformat": 4,
 "nbformat_minor": 4
}
